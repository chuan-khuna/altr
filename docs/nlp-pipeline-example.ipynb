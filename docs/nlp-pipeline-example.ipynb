{
 "cells": [
  {
   "cell_type": "code",
   "execution_count": 1,
   "id": "fd30232a",
   "metadata": {},
   "outputs": [],
   "source": [
    "from altr.nlp.tokenise import pipe, exclude_by_regex, exclude_words\n",
    "\n",
    "# import types\n",
    "from altr.nlp._types import Text, Token"
   ]
  },
  {
   "cell_type": "code",
   "execution_count": 2,
   "id": "20845311",
   "metadata": {},
   "outputs": [],
   "source": [
    "from altr.monad.extended_pymonad import Right, Left\n",
    "from pythainlp.tokenize import word_tokenize\n",
    "import pythainlp"
   ]
  },
  {
   "cell_type": "code",
   "execution_count": 3,
   "id": "2d09376b",
   "metadata": {},
   "outputs": [],
   "source": [
    "def tokenize_text(text: Text):\n",
    "    try:\n",
    "        tokens = word_tokenize(text, engine='newmm', keep_whitespace=False)\n",
    "        return Right(tokens)\n",
    "    except Exception as e:\n",
    "        return Left(f\"Error tokenizing text: {e}\")\n",
    "\n",
    "\n",
    "def exclude_stopwords(tokens: list[Token]):\n",
    "    return exclude_words(pythainlp.corpus.thai_stopwords(), tokens)"
   ]
  },
  {
   "cell_type": "code",
   "execution_count": 4,
   "id": "9d3ede29",
   "metadata": {},
   "outputs": [],
   "source": [
    "texts = [\"โอเคบ่พวกเรารักภาษาบ้านเกิด\", \"วรรณกรรม ภาพวาด และการแสดงงิ้ว\"]"
   ]
  },
  {
   "cell_type": "code",
   "execution_count": 5,
   "id": "57ae3e0a",
   "metadata": {},
   "outputs": [],
   "source": [
    "# enter the monad world\n",
    "def _lift_text(text):\n",
    "    return Right(text)\n",
    "\n",
    "\n",
    "# exit the monad world\n",
    "def unwrap_result(result):\n",
    "    return result.either(lambda x: [], lambda x: x)\n",
    "\n",
    "\n",
    "# def process_text(text: Text) -> Text | list[Token] | None:\n",
    "#     text_processing_pipeline = pipe(\n",
    "#         tokenize_text,\n",
    "#         exclude_stopwords,\n",
    "#         (lambda tokens: exclude_words(['งิ้ว'], tokens)),\n",
    "#         (lambda tokens: exclude_by_regex(r'^ภ', tokens)),\n",
    "#         (lambda tokens: exclude_words(['บ่'], tokens)),\n",
    "#     )\n",
    "\n",
    "#     return unwrap_result(text_processing_pipeline(_lift_text(text)))"
   ]
  },
  {
   "cell_type": "code",
   "execution_count": 6,
   "id": "21120e6e",
   "metadata": {},
   "outputs": [],
   "source": [
    "# list(\n",
    "#     map(\n",
    "#         process_text,\n",
    "#         texts,\n",
    "#     )\n",
    "# )"
   ]
  },
  {
   "cell_type": "code",
   "execution_count": 7,
   "id": "0c800603",
   "metadata": {},
   "outputs": [
    {
     "data": {
      "text/plain": [
       "[Right ['โอเค', 'พวกเรา', 'รัก', 'บ้านเกิด'], Right ['วรรณกรรม', 'การแสดง']]"
      ]
     },
     "execution_count": 7,
     "metadata": {},
     "output_type": "execute_result"
    }
   ],
   "source": [
    "text_processing_pipeline = pipe(\n",
    "    tokenize_text,\n",
    "    exclude_stopwords,\n",
    "    # suppose that they don't want to see this in the result\n",
    "    (lambda tokens: exclude_words(['งิ้ว'], tokens)),\n",
    "    # another exclusion condition\n",
    "    (lambda tokens: exclude_by_regex(r'^ภ', tokens)),\n",
    "    # again, with another exclusion condition, etc\n",
    "    (lambda tokens: exclude_words(['บ่'], tokens)),\n",
    ")\n",
    "\n",
    "# convert a normal text for the monad world\n",
    "pipeline_input = map(_lift_text, texts)\n",
    "list(\n",
    "    map(\n",
    "        text_processing_pipeline,\n",
    "        pipeline_input,\n",
    "    )\n",
    ")\n",
    "# TODO: make the pipeline for a list of texts, they should be able to processed as n-grams"
   ]
  },
  {
   "cell_type": "code",
   "execution_count": null,
   "id": "1b6468d7",
   "metadata": {},
   "outputs": [],
   "source": []
  }
 ],
 "metadata": {
  "kernelspec": {
   "display_name": ".venv",
   "language": "python",
   "name": "python3"
  },
  "language_info": {
   "codemirror_mode": {
    "name": "ipython",
    "version": 3
   },
   "file_extension": ".py",
   "mimetype": "text/x-python",
   "name": "python",
   "nbconvert_exporter": "python",
   "pygments_lexer": "ipython3",
   "version": "3.12.8"
  }
 },
 "nbformat": 4,
 "nbformat_minor": 5
}
