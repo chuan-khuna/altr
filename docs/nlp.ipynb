{
 "cells": [
  {
   "cell_type": "code",
   "execution_count": 1,
   "id": "6689a7c4",
   "metadata": {},
   "outputs": [],
   "source": [
    "import requests\n",
    "\n",
    "from pythainlp.tokenize import word_tokenize\n",
    "from pymonad.tools import curry\n",
    "\n",
    "import gensim\n",
    "\n",
    "\n",
    "from altr.nlp import compose, exclude_by_regex, prepare_data_for_ngram, process_ngram"
   ]
  },
  {
   "cell_type": "markdown",
   "id": "d5a4fd9e",
   "metadata": {},
   "source": [
    "load example texts\n"
   ]
  },
  {
   "cell_type": "code",
   "execution_count": 2,
   "id": "064fca43",
   "metadata": {},
   "outputs": [
    {
     "data": {
      "text/plain": [
       "[':3', '☺️', '🤤', '🤪', '😁', '😄', '😊', '😋', '😍', '😘']"
      ]
     },
     "execution_count": 2,
     "metadata": {},
     "output_type": "execute_result"
    }
   ],
   "source": [
    "response = requests.get(\"https://raw.githubusercontent.com/PyThaiNLP/wisesight-sentiment/refs/heads/master/pos.txt\")\n",
    "\n",
    "texts = [text.strip() for text in response.text.split(\"\\n\")]\n",
    "texts[:10]"
   ]
  },
  {
   "cell_type": "markdown",
   "id": "0186e8ce",
   "metadata": {},
   "source": [
    "define tokeniser function\n"
   ]
  },
  {
   "cell_type": "code",
   "execution_count": 3,
   "id": "8971a675",
   "metadata": {},
   "outputs": [],
   "source": [
    "def tokenise(texts):\n",
    "    return [word_tokenize(text, engine=\"newmm\", keep_whitespace=False) for text in texts]"
   ]
  },
  {
   "cell_type": "markdown",
   "id": "61e2b25e",
   "metadata": {},
   "source": [
    "define some functions for text and token processing pipeline\n"
   ]
  },
  {
   "cell_type": "code",
   "execution_count": null,
   "id": "41253543",
   "metadata": {},
   "outputs": [],
   "source": [
    "@curry(2)\n",
    "def filter_by_length(length: int, texts: list[str]) -> list[str]:\n",
    "    return [text for text in texts if len(text) >= length]\n",
    "\n",
    "\n",
    "@curry(2)\n",
    "def filter_list_tokens_by_regex(pattern: str, list_of_tokens: list[list[str]]) -> list[list[str]]:\n",
    "    return [exclude_by_regex(pattern)(tokens) for tokens in list_of_tokens]\n",
    "\n",
    "\n",
    "NGRAM_DELIMITER = \"<DELIMITER>\"\n",
    "\n",
    "\n",
    "@curry(2)\n",
    "def train_ngram_model(kwargs: dict, tokenised_texts: list[list[str]]) -> gensim.models.Phrases:\n",
    "    return gensim.models.Phrases(tokenised_texts, **kwargs)\n",
    "\n",
    "\n",
    "def apply_ngram_model(ngram_model: gensim.models.Phrases, tokenised_texts: list[list[str]]) -> list[list[str]]:\n",
    "    return [ngram_model[tokens] for tokens in tokenised_texts]\n",
    "\n",
    "\n",
    "@curry(2)\n",
    "def filter_only_ngram_tokens(delimiter, tokenised_texts: list[list[str]]) -> list[list[str]]:\n",
    "    return [[token for token in tokens if delimiter in token] for tokens in tokenised_texts]\n",
    "\n",
    "\n",
    "@curry(2)\n",
    "def concat_ngram_tokens(delimiter, tokenised_texts: list[list[str]]) -> list[list[str]]:\n",
    "    return [[token.replace(delimiter, \"\") for token in tokens] for tokens in tokenised_texts]"
   ]
  },
  {
   "cell_type": "markdown",
   "id": "09f6625f",
   "metadata": {},
   "source": [
    "create pipeline\n"
   ]
  },
  {
   "cell_type": "code",
   "execution_count": null,
   "id": "2cce0c35",
   "metadata": {},
   "outputs": [],
   "source": [
    "process_bigram = process_ngram(\n",
    "    train_ngram_model({\"min_count\": 1, \"threshold\": 0.1, \"delimiter\": NGRAM_DELIMITER}),\n",
    "    apply_ngram_model,\n",
    "    filter_only_ngram_tokens(NGRAM_DELIMITER),\n",
    "    concat_ngram_tokens(NGRAM_DELIMITER),\n",
    ")\n",
    "\n",
    "process_trigram = process_ngram(\n",
    "    train_ngram_model({\"min_count\": 1, \"threshold\": 0.1, \"delimiter\": NGRAM_DELIMITER}),\n",
    "    apply_ngram_model,\n",
    "    filter_only_ngram_tokens(NGRAM_DELIMITER),\n",
    "    concat_ngram_tokens(NGRAM_DELIMITER),\n",
    ")\n",
    "\n",
    "\n",
    "generate_ngram_pipeline = compose(\n",
    "    # filter long enough texts\n",
    "    filter_by_length(20),\n",
    "    tokenise,\n",
    "    filter_list_tokens_by_regex(r\"^5\"),\n",
    "    filter_list_tokens_by_regex(r\"^\\s+$\"),\n",
    "    # --- train ngram models below ---\n",
    "    prepare_data_for_ngram,\n",
    "    process_bigram,\n",
    "    process_trigram,\n",
    ")"
   ]
  },
  {
   "cell_type": "code",
   "execution_count": 6,
   "id": "bedd3e44",
   "metadata": {},
   "outputs": [],
   "source": [
    "result = generate_ngram_pipeline(texts)"
   ]
  },
  {
   "cell_type": "code",
   "execution_count": 7,
   "id": "9caa1346",
   "metadata": {},
   "outputs": [],
   "source": [
    "models, ngrams, ngrams_filtered = result"
   ]
  },
  {
   "cell_type": "code",
   "execution_count": 8,
   "id": "3e368463",
   "metadata": {},
   "outputs": [
    {
     "data": {
      "text/plain": [
       "[['กินน้ำซุป', 'นะอร่อย'],\n",
       " ['นะมึง'],\n",
       " [],\n",
       " ['คิดถึงแม่'],\n",
       " ['เคร', 'ถ้าไม่'],\n",
       " ['ใครว่า', 'จะเลี้ยง'],\n",
       " ['ช่วงนี้จะ', 'กรอบๆ'],\n",
       " ['ช่วยๆ', 'ด้วยนะ'],\n",
       " ['ชอบกิน', 'ช้างครับ', 'พี่น้ำ'],\n",
       " ['เมนูของ'],\n",
       " [],\n",
       " ['เซนท', '2มี', 'มั้ยค่ะ'],\n",
       " [],\n",
       " ['เเดก'],\n",
       " ['ส่งมา'],\n",
       " ['สุดท้ายแล้ว'],\n",
       " ['เดือนหน้า', 'ค่อยไป'],\n",
       " ['แล้วขอบคุณ'],\n",
       " ['สุดยอดเลย'],\n",
       " ['ต้องจัด', 'สักใบ'],\n",
       " ['แล้วนะ'],\n",
       " ['จ๋าาาา', 'หิวววว'],\n",
       " ['สุดๆ'],\n",
       " ['แถวนี้', 'Hotpot', 'หรออ'],\n",
       " [],\n",
       " ['จังเลย', 'ค่าาา'],\n",
       " ['น่าสนๆ', 'ต่อด้วย'],\n",
       " ['เท่าไรคับ'],\n",
       " ['พอค่า'],\n",
       " [],\n",
       " ['แป้งเจ้า', 'ดีงามค่ะ'],\n",
       " ['ไปๆๆๆ'],\n",
       " ['ไปๆๆๆๆๆ', 'เด็กๆ', 'ไปกัน'],\n",
       " ['ไปกิน', 'ม้าย'],\n",
       " ['ไปกินกัน', 'คงอยาก'],\n",
       " ['จ้าาา'],\n",
       " ['อึดอัดมาก'],\n",
       " ['ไปวันนี้', 'ได้มั้ย'],\n",
       " ['ผมกิน', 'เบียร์สิงห์'],\n",
       " [],\n",
       " ['นี้ชอบ', 'MG3'],\n",
       " ['พรุ่งนี้เลย'],\n",
       " ['พวกพี่', 'สุดยอดคับ'],\n",
       " ['พาไป', 'จ่ายตัง', 'ด้วยนะ'],\n",
       " ['มีโปร'],\n",
       " ['วันนี้ป่ะ'],\n",
       " ['เมนูฮิต', 'ที่ทุกคน', 'คนชอบ'],\n",
       " ['ยูเซ', 'อรี'],\n",
       " [],\n",
       " ['รีโว่'],\n",
       " ['ร่างกายต้องการ'],\n",
       " ['ร่างกายต้องการ'],\n",
       " ['ร่างกายต้องการ', 'บุฟเฟ่'],\n",
       " ['เราชอบ', 'กินน้ำสิงห์'],\n",
       " ['ลองแล้ว'],\n",
       " ['หลังปีใหม่', 'กะได้'],\n",
       " ['ลูกชิ้นคริสตัล'],\n",
       " ['เล่มนี้', 'น่าอ่านมาก'],\n",
       " ['แล้วโปร', 'อะไรค่ะ'],\n",
       " ['แสงโสมนะ'],\n",
       " ['ไปกิน', 'บาบีก้อน'],\n",
       " ['ภาพสวย'],\n",
       " [],\n",
       " ['เลยยย'],\n",
       " ['สู้ๆ', 'ขอให้ผ่าน'],\n",
       " ['ใสๆ', 'มากๆ'],\n",
       " ['นี้นะ'],\n",
       " ['ดี๊ดี'],\n",
       " [],\n",
       " [],\n",
       " ['กินอีกแล้ว'],\n",
       " [],\n",
       " ['ไปแต่'],\n",
       " ['ไหนบอก', 'อยากกิน'],\n",
       " ['อยากกิน', 'จังเลย'],\n",
       " ['อยากกิน', 'บาบิ', 'คิวพลาซ่า'],\n",
       " ['อยากกิน', 'เอมเค', 'คคคค', 'คคคค'],\n",
       " ['เลยค่ะ'],\n",
       " ['อร่อยมาก', 'จิงๆๆ', 'ต้องลอง'],\n",
       " ['พาเค้า', 'ไปกิน'],\n",
       " ['ครับขอบคุณ'],\n",
       " ['อยากไป'],\n",
       " ['ไฮเนเก้นสัก', 'ขวดไม่'],\n",
       " ['เคยซ่อม'],\n",
       " ['เย้ๆๆ'],\n",
       " ['เดือนนี้'],\n",
       " ['ก็เห็น', 'ยชอบ'],\n",
       " ['กินไฮเนเก้น'],\n",
       " ['แกร่งจริง', 'ต้องนาวา'],\n",
       " ['มากค่ะ'],\n",
       " ['มาสด้า2'],\n",
       " ['ลงชื่อด้วย'],\n",
       " ['เค้าอยาก', 'กินบาบี', 'ก้อนนน'],\n",
       " [],\n",
       " [],\n",
       " ['ไปกินกัน'],\n",
       " ['.อยาก'],\n",
       " ['จะกิน', 'แต่เอ็ม'],\n",
       " ['จะได้', 'มั้ยล่ะ'],\n",
       " ['จะไป', 'ใช่ม่ะ']]"
      ]
     },
     "execution_count": 8,
     "metadata": {},
     "output_type": "execute_result"
    }
   ],
   "source": [
    "# bigram from the first 10 texts\n",
    "ngrams_filtered[2][:100]"
   ]
  },
  {
   "cell_type": "code",
   "execution_count": null,
   "id": "47831650",
   "metadata": {},
   "outputs": [],
   "source": []
  },
  {
   "cell_type": "code",
   "execution_count": null,
   "id": "24e90171",
   "metadata": {},
   "outputs": [],
   "source": []
  }
 ],
 "metadata": {
  "kernelspec": {
   "display_name": ".venv",
   "language": "python",
   "name": "python3"
  },
  "language_info": {
   "codemirror_mode": {
    "name": "ipython",
    "version": 3
   },
   "file_extension": ".py",
   "mimetype": "text/x-python",
   "name": "python",
   "nbconvert_exporter": "python",
   "pygments_lexer": "ipython3",
   "version": "3.12.9"
  }
 },
 "nbformat": 4,
 "nbformat_minor": 5
}
