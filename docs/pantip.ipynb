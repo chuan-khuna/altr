{
 "cells": [
  {
   "cell_type": "code",
   "execution_count": 14,
   "id": "bcf770f4",
   "metadata": {},
   "outputs": [],
   "source": [
    "from altr.scraper.pantip.search import search_topics, extract_search_results, extract_topic_ids\n",
    "from altr.scraper.pantip.utils import response_to_json"
   ]
  },
  {
   "cell_type": "code",
   "execution_count": 2,
   "id": "34d42e2c",
   "metadata": {},
   "outputs": [],
   "source": [
    "keyword = \"sawano hiroyuki\"\n",
    "rooms = None\n",
    "page = 1"
   ]
  },
  {
   "cell_type": "code",
   "execution_count": 16,
   "id": "19db603b",
   "metadata": {},
   "outputs": [],
   "source": [
    "search_response = search_topics(keyword, rooms=rooms, page=page)"
   ]
  },
  {
   "cell_type": "code",
   "execution_count": 17,
   "id": "a2072908",
   "metadata": {},
   "outputs": [
    {
     "data": {
      "text/plain": [
       "Right [{'id': '42980847', 'created_time': '1727087816', 'rooms': ['การ์ตูน', 'กรุงโซล'], 'url': 'https://pantip.com/topic/42980847', 'title': 'สอบถามเพลงของ{{em}} {{eem}}Solo{{em}} {{eem}}leveling{{em}} {{eem}}หน่อยครับ', 'detail': 'พอดีผมกลับย้อนดู{{em}} {{eem}}อนิเมะ{{em}} {{eem}}Solo{{em}} {{eem}}leveling{{em}} {{eem}}จำได้ว่าตอนที่พระเอกฆ่าคนครั้งแรกตอนดูรู้สึกว่ามันมีอะไรติดทำให้รู้สึกว่ามันมีอะไรชวนกลับไปดูซ้ำ{{em}} {{eem}}พอได้ดูเลยอ่อ{{em}} {{eem}}เพราะเพลงด้วย{{em}} {{eem}}เลยอยากทราบว่าเพลงมันชื่อว่าอะไรครับ{{em}} {{eem}}เป็นตอนที่{{em}} {{eem}}6{{em}} {{eem}}นาทีที่{{em}} {{eem}}18{{em}} {{eem}}เนื้อเพลงคราวๆ{{em}} {{eem}}this{{em}} {{eem}}is{{em}} {{eem}}a{{em}} {{eem}}call{{em}} {{eem}}for{{em}} {{eem}}me{{em}} {{eem}}u{{em}} {{eem}}and{{em}} {{eem}}could{{em}} {{eem}}to{{em}} {{eem}}me{{em}} {{eem}}ถ้าผมฟังไม่ผิดนะครับ', 'comment': ' DARK{{em}} {{eem}}ARIA{{em}} {{eem}}ᐸLV2ᐳ{{em}} {{eem}}-{{em}} {{eem}}{{em}}Hiroyuki{{eem}}{{em}} {{eem}}{{em}}Sawano{{eem}} ค่ะ', 'comment_reply': 2, 'comment_url': 'https://pantip.com/topic/42980847/comment2', 'author_name': 'MyZeRo', 'author_url': 'https://pantip.com/profile/691671', 'total_comment': 2, 'tags': [], 'cover_img': None}, {'id': '42816970', 'created_time': '1719882983', 'rooms': ['การ์ตูน'], 'url': 'https://pantip.com/topic/42816970', 'title': 'ตัวอย่างหนังโรง{{em}} {{eem}}กุหลาบแวร์ซายส์', 'detail': 'ภาพยนตร์อนิเมะจากผลงานโชโจดังในตำนาน กุหลาบแวร์ซายส์ เข้าฉายในญี่ปุ่นต้นฤดูใบไม้ผลิ 2025 สตูดิโอ: Mappa กำกับ: Yoshimura Ai ดีไซน์:{{em}} {{eem}}Oka{{em}} {{eem}}Mariko{{em}} {{eem}}ดนตรี:{{em}} {{eem}}{{em}}Sawano{{eem}}{{em}} {{eem}}{{em}}Hiroyuki{{eem}}, Yamamoto Kohta VA เลดี้ออสการ์: Sawashiro Miyuki มารี อองตัวเนต: Hirano Aya อังเดร: Toyonaga Toshiyuki เคานท์แฟร์ซอง: Kato Kazuki', 'comment': '{{em}} {{eem}}คลาสสิกมากค่ะ', 'comment_reply': 1, 'comment_url': 'https://pantip.com/topic/42816970/comment1', 'author_name': 'สมาชิกหมายเลข 5087077', 'author_url': 'https://pantip.com/profile/5087077', 'total_comment': 20, 'tags': [], 'cover_img': 'https://f.ptcdn.info/691/084/000/sfz1y72gsm64YZFt5D2l4-o.jpg'}, {'id': '42415388', 'created_time': '1703137751', 'rooms': ['เฉลิมกรุง', 'การ์ตูน'], 'url': 'https://pantip.com/topic/42415388', 'title': 'SawanoHiroyuki[nZk]:Laco「FAKEit」เพลงนี้ทำไมมันเจ๋งจังครับ', 'comment': '{{em}} {{eem}}{{em}}Sawano{{eem}}{{em}} {{eem}}{{em}}Hiroyuki{{eem}} เมพมานานตั้งแต่สมัยทำ ost ให้ Iryu team medical dragon แล้วครับ มาเริ่มดังตอนทำ ost AoT ถ้าชอบเสียง Laco แนะนำเพลง The Answer', 'comment_reply': 3, 'comment_url': 'https://pantip.com/topic/42415388/comment3', 'author_name': 'สมาชิกหมายเลข 7890701', 'author_url': 'https://pantip.com/profile/7890701', 'total_comment': 3, 'tags': [], 'cover_img': None}, {'id': '42315611', 'created_time': '1698845986', 'rooms': ['การ์ตูน', 'กรุงโซล'], 'url': 'https://pantip.com/topic/42315611', 'title': \"[Tomorrow{{em}} {{eem}}X{{em}} {{eem}}Together]{{em}} {{eem}}TXT{{em}} {{eem}}เตรียมปล่อยเพลง{{em}} {{eem}}Opening{{em}} {{eem}}อนิเมะดัดแปลงจากนิยายชื่อดังจากเกาหลี{{em}} {{eem}}'Solo{{em}} {{eem}}Leveling'\", 'detail': 'ได้ร้องเพลงประกอบ anime มาแล้วหลายเพลง ทั้งเรื่อง Black clover และ World Trigger นอกจากนี้เพลงยังได้รับการเรียบเรียงโดยนักแต่งเพลงจากฝั่งญี่ปุ่นมือฉมังอย่าง{{em}} {{eem}}{{em}}sawano{{eem}}{{em}} {{eem}}{{em}}hiroyuki{{eem}} ผู้มีเพลงโด่งดังมากมาย ทั้งจาก Attack on Titan, The Seven Deadly Sins, Blue ', 'comment': '{{em}} {{eem}}ติดตามๆๆ', 'comment_reply': 1, 'comment_url': 'https://pantip.com/topic/42315611/comment1', 'author_name': 'สะใจจุงเบย', 'author_url': 'https://pantip.com/profile/2228223', 'total_comment': 5, 'tags': [], 'cover_img': 'https://f.ptcdn.info/183/082/000/s3g5953c3uttjlz6j3VP-s.jpg'}, {'id': '42315716', 'created_time': '1698849120', 'rooms': ['การ์ตูน', 'กรุงโซล'], 'url': 'https://pantip.com/topic/42315716', 'title': '[#ข่าวด่วน!]{{em}} {{eem}}TOMORROW{{em}} {{eem}}X{{em}} {{eem}}TOGETHER{{em}} {{eem}}และ{{em}} {{eem}}SawanoHiroyuki[nZk]{{em}} {{eem}}จับมือกันสร้าง{{em}} {{eem}}<LEveL>{{em}} {{eem}}เพลงประกอบอนิเมะ{{em}} {{eem}}Solo{{em}} {{eem}}Leveling', 'detail': 'เกาหลี จากค่าย Big Hit Entertainment (Hybe Labels) โดยตัววงค่อนข้างจะเป็นที่โด่งดังในเรื่องของงาน Collaboration ข้ามวงการและยังเคยร้องเพลงประกอบอนิเมชั่นมาแล้ว 2 เรื่อง Black Clover - Everlasting Shine World Trigger{{em}} {{eem}}-{{em}} {{eem}}Force{{em}} {{eem}}และนักแต่งเพลง{{em}} {{eem}}คุณ{{em}} {{eem}}{{em}}Sawano{{eem}}{{em}} {{eem}}{{em}}Hiroyuki{{eem}} ', 'comment': '{{em}} {{eem}}เสียงหลบแบบ{{em}} {{eem}}txt{{em}} {{eem}}เหมาะนะกับเพลง{{em}} {{eem}}{{em}}hiroyuki{{eem}}{{em}} {{eem}}นะ', 'comment_reply': 7, 'comment_url': 'https://pantip.com/topic/42315716/comment7', 'author_name': 'สมาชิกหมายเลข 3050151', 'author_url': 'https://pantip.com/profile/3050151', 'total_comment': 8, 'tags': [], 'cover_img': 'https://f.ptcdn.info/183/082/000/s3g4r427xruo1iTtT1PZT-s.jpg'}, {'id': '42259934', 'created_time': '1696507377', 'rooms': ['ศาลาประชาคม', 'สวนลุมพินี'], 'url': 'https://pantip.com/topic/42259934', 'title': 'รวมเพลงดีๆ{{em}} {{eem}}สำหรับผู้ป่วยโรคซึมเศร้า{{em}} {{eem}}ผู้มีปัญหาสุขภาพจิต{{em}} {{eem}}และผู้ประสบกับปัญหาชีวิต{{em}} {{eem}}โดย{{em}} {{eem}}Doctor{{em}} {{eem}}Strings', 'detail': 'อีกครั้ง Final Fantasy XV - Solidarity [Spoil] คลิกเพื่อดูข้อความที่ซ่อนไว้เพลงดีๆ สำหรับการยืนหยัดด้วตัวเองหรือพวกพ้องของเรา{{em}} {{eem}}{{em}}Hiroyuki{{eem}}{{em}} {{eem}}{{em}}Sawano{{eem}} - Desert [Spoil] คลิกเพื่อดูข้อความที่ซ่อนไว้เพลงสำหรับการฟันฝ่าอุปสรรคที่มีอยู่มากมาย จงเดินด้วยเท้าของตัวเองและ', 'comment': '{{em}} {{eem}}โอ้วเปิดมาเพลงแรก{{em}} {{eem}}ซาวน์อย่างเศร้า{{em}} {{eem}}อันนี้เราฟังไม่ได้เลยค่ะ{{em}} {{eem}}แบบฉุดเราลงเหวเลย{{em}} {{eem}}..ปกติถ้าจะฟังจะฟังเพลงที่ไม่เข้าใจเนื้อหา{{em}} {{eem}}แต่ซาวน์สนุกๆค่ะ{{em}} {{eem}}(อย่าไปอยากรู้เนื้อหาค่ะ{{em}} {{eem}}เพราะบางเพลงไม่รู้จะดีกว่า){{em}} {{eem}}ฟังมห้รู้สึกชื่นใจพอ{{em}} {{eem}}ไม่ก็ฟังเป็นสลีปซาวน์ไปเลย', 'comment_reply': 1, 'comment_url': 'https://pantip.com/topic/42259934/comment1', 'author_name': 'สมาชิกหมายเลข 7627676', 'author_url': 'https://pantip.com/profile/7627676', 'total_comment': 3, 'tags': [], 'cover_img': None}, {'id': '42280413', 'created_time': '1697445518', 'rooms': ['สีลม', 'ศาลาประชาคม', 'สวนลุมพินี'], 'url': 'https://pantip.com/topic/42280413', 'title': 'แนวทางการทำงานอย่างมีความสุข{{em}} {{eem}}และเพลงเพราะๆ{{em}} {{eem}}ในที่ทำงาน{{em}} {{eem}}โดย{{em}} {{eem}}Doctor{{em}} {{eem}}Strings', 'detail': ' หากทำไม่ได้ จงหาความสุขหลังจากทำงานแล้ว และลืมเรื่องแย่ๆ ที่ผ่านมาให้ได้{{em}} {{eem}}หากไม่ได้{{em}} {{eem}}จงแก้ไขมัน{{em}} {{eem}}{{em}}Hiroyuki{{eem}}{{em}} {{eem}}{{em}}Sawano{{eem}} feat. mizuki - ViEW [Spoil] คลิกเพื่อดูข้อความที่ซ่อนไว้ Mr. Big - Shine [Spoil] คลิกเพื่อดูข้อความที่ซ่อนไว้ Sasanomaly - Sora to Utsuro [Spoil] คลิกเพื่อดูข้อความที่ซ่อนไว้ Sweet Dove - I Want To See A Brief Future [Spoil] คลิกเพื่อดูข้อความที่ซ่อนไว้', 'comment': None, 'comment_reply': None, 'comment_url': None, 'author_name': 'สมาชิกหมายเลข 7627676', 'author_url': 'https://pantip.com/profile/7627676', 'total_comment': 0, 'tags': [], 'cover_img': None}, {'id': '42100604', 'created_time': '1688378017', 'rooms': ['การ์ตูน'], 'url': 'https://pantip.com/topic/42100604', 'title': 'แนะนำเพลงญี่ปุ่นหน่อยค่ะ', 'detail': 'ที่ไม่ค่อยมีคนไทยรู้จัก{{em}} {{eem}}เพลงจังหวะเร็วๆ{{em}} {{eem}}เพลงประกอบอนิเมะก็ได้{{em}} {{eem}}ขอบคุณมากๆค่ะ', 'comment': ' ขอแนะนำที่เราชอบฟังช่วงนี้ละกัน mobile suit{{em}} {{eem}}gundam{{em}} {{eem}}nt{{em}} {{eem}}ed{{em}} {{eem}}({{em}} {{eem}}{{em}}sawano{{eem}}{{em}} {{eem}}{{em}}hiroyuki{{eem}}[nZk ] : lisa - narrative) ranking of king op2 ( Vaundy - hadaka no yuusha ) chainsaw man ed 5 ( syudou - in to the back room){{em}} {{eem}}re{{em}} {{eem}}creators{{em}} {{eem}}op{{em}} {{eem}}2{{em}} {{eem}}({{em}}sawano{{eem}}{{em}} {{eem}}{{em}}hiroyuki{{eem}} [ nZk ] feat.', 'comment_reply': 7, 'comment_url': 'https://pantip.com/topic/42100604/comment7', 'author_name': 'สมาชิกหมายเลข 6884647', 'author_url': 'https://pantip.com/profile/6884647', 'total_comment': 14, 'tags': [], 'cover_img': None}, {'id': '41490680', 'created_time': '1655444868', 'rooms': ['เฉลิมกรุง', 'การ์ตูน'], 'url': 'https://pantip.com/topic/41490680', 'title': 'ตามหาที่มาเพลงของศิลปินชื่อ{{em}} {{eem}}{{em}}Sawano{{eem}}{{em}} {{eem}}{{em}}Hiroyuki{{eem}}{{em}} {{eem}}เพลงชื่อ{{em}} {{eem}}\"3594eMT\"{{em}} {{eem}}ครับ', 'detail': 'ตามหาที่มาของเพลง{{em}} {{eem}}[3594eMT]{{em}} {{eem}}ของศิลปินชื่อ{{em}} {{eem}}{{em}}Sawano{{eem}}{{em}} {{eem}}{{em}}Hiroyuki{{eem}} ครับ อยากรู้ว่ามันเป็นเพลงประกอบของอะไร อนิเมะ? เกม? หนัง? ชื่ออะไรใครรู้หรือมีวิธีหารบกวนบอกทีครับ🥺🥺(ผมลองค้นใน google แล้วไม่มี)', 'comment': '{{em}} {{eem}}3594e{{em}} {{eem}}(square{{em}} {{eem}}enix){{em}} {{eem}}https://kongbakpao.com/3594e-3-kingdom-game-by-square-enix-ios-pre-register/', 'comment_reply': 1, 'comment_url': 'https://pantip.com/topic/41490680/comment1', 'author_name': 'สมาชิกหมายเลข 4809298', 'author_url': 'https://pantip.com/profile/4809298', 'total_comment': 1, 'tags': [], 'cover_img': None}, {'id': '41730772', 'created_time': '1668356753', 'rooms': ['การ์ตูน'], 'url': 'https://pantip.com/topic/41730772', 'title': 'Mushoku{{em}} {{eem}}Tensei:{{em}} {{eem}}Isekai{{em}} {{eem}}Ittara{{em}} {{eem}}Honki{{em}} {{eem}}Dasu{{em}} {{eem}}คืออนิเมะต่างโลกที่ดีที่สุด?', 'detail': 'ระดับนึงทั้ง op ed และ soundtrack แต่ก็มีอนิเมะอีกหลายเรื่องที่เพลงประกอบดีกว่า({{em}} {{eem}}เช่น{{em}} {{eem}}{{em}}sawano{{eem}}{{em}} {{eem}}{{em}}hiroyuki{{eem}} อันนี้อวยนะ) แต่ก็ต้องยอมรับว่าเป็นอนิเมะเรื่องหนึ่งที่ไม่สามารถข้าม op เพราะในเพลงจะเป็นเนื้อเรื่องส่วนเสริมที่จะให้เห็นถึงบ้านเมือง วิวทิวทัศน์ และการ', 'comment': '{{em}} {{eem}}ต้องยกความดีความชอบให้ทีมสร้างอนิเมะเขาแหละ{{em}} {{eem}}ดูท่าจะรักเรื่องนี้จริงๆ{{em}} {{eem}}เพราะสื่อทั้งบรรยากาศและความสมจริง{{em}} {{eem}}รวมทั้งแก่นหลักอย่าง{{em}} {{eem}}ครอบครัว{{em}} {{eem}}การเริ่มต้นชีวิตใหม่{{em}} {{eem}}การปรับปรุงตัวเอง{{em}} {{eem}}มาได้ดีมาก{{em}} {{eem}}และอาจจะด้วยความเก่าของนิยายด้วยมั้ง', 'comment_reply': 1, 'comment_url': 'https://pantip.com/topic/41730772/comment1', 'author_name': 'สมาชิกหมายเลข 5492889', 'author_url': 'https://pantip.com/profile/5492889', 'total_comment': 9, 'tags': [], 'cover_img': 'https://f.ptcdn.info/007/079/000/rlahpp2yp3sEqZUIK0hN-o.png'}]"
      ]
     },
     "execution_count": 17,
     "metadata": {},
     "output_type": "execute_result"
    }
   ],
   "source": [
    "search_response >> response_to_json >> extract_search_results"
   ]
  },
  {
   "cell_type": "code",
   "execution_count": 19,
   "id": "97335970",
   "metadata": {},
   "outputs": [
    {
     "data": {
      "text/plain": [
       "Right ['42980847', '42816970', '42415388', '42315611', '42315716', '42259934', '42280413', '42100604', '41490680', '41730772']"
      ]
     },
     "execution_count": 19,
     "metadata": {},
     "output_type": "execute_result"
    }
   ],
   "source": [
    "search_response >> response_to_json >> extract_search_results >> extract_topic_ids"
   ]
  },
  {
   "cell_type": "code",
   "execution_count": null,
   "id": "2c2cae65",
   "metadata": {},
   "outputs": [],
   "source": []
  },
  {
   "cell_type": "code",
   "execution_count": null,
   "id": "fd924926",
   "metadata": {},
   "outputs": [],
   "source": []
  }
 ],
 "metadata": {
  "kernelspec": {
   "display_name": ".venv",
   "language": "python",
   "name": "python3"
  },
  "language_info": {
   "codemirror_mode": {
    "name": "ipython",
    "version": 3
   },
   "file_extension": ".py",
   "mimetype": "text/x-python",
   "name": "python",
   "nbconvert_exporter": "python",
   "pygments_lexer": "ipython3",
   "version": "3.12.8"
  }
 },
 "nbformat": 4,
 "nbformat_minor": 5
}
