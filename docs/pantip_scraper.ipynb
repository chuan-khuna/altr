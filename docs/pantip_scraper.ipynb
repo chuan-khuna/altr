{
 "cells": [
  {
   "cell_type": "code",
   "execution_count": 1,
   "id": "ee69e18f",
   "metadata": {},
   "outputs": [],
   "source": [
    "from altr.scraper.pantip.scraper import PantipScraper\n",
    "from altr.scraper.pantip.text_cleaner import clean_pantip_text\n",
    "import logging"
   ]
  },
  {
   "cell_type": "code",
   "execution_count": 2,
   "id": "f31223c9",
   "metadata": {},
   "outputs": [],
   "source": [
    "# https://github.com/microlinkhq/top-user-agents/blob/master/src/index.json\n",
    "\n",
    "user_agents = [\n",
    "    \"Mozilla/5.0 (Windows NT 10.0; Win64; x64) AppleWebKit/537.36 (KHTML, like Gecko) Chrome/137.0.0.0 Safari/537.36\",\n",
    "    \"Mozilla/5.0 (X11; Linux x86_64) AppleWebKit/537.36 (KHTML, like Gecko) Chrome/137.0.0.0 Safari/537.36\",\n",
    "    \"Mozilla/5.0 (Windows NT 10.0; Win64; x64) AppleWebKit/537.36 (KHTML, like Gecko) Chrome/136.0.0.0 Safari/537.36\",\n",
    "    \"Mozilla/5.0 (Macintosh; Intel Mac OS X 10_15_7) AppleWebKit/537.36 (KHTML, like Gecko) Chrome/136.0.0.0 Safari/537.36\",\n",
    "    \"Mozilla/5.0 (Macintosh; Intel Mac OS X 10_15_7) AppleWebKit/537.36 (KHTML, like Gecko) Chrome/137.0.0.0 Safari/537.36\",\n",
    "    \"Mozilla/5.0 (Linux; Android 10; K) AppleWebKit/537.36 (KHTML, like Gecko) Chrome/136.0.0.0 Mobile Safari/537.36\",\n",
    "    \"Mozilla/5.0 (Windows NT 10.0; Win64; x64) AppleWebKit/537.36 (KHTML, like Gecko) Chrome/137.0.0.0 Safari/537.36 Edg/137.0.0.0\",\n",
    "    \"Mozilla/5.0 (Windows NT 10.0; Win64; x64; rv:135.0) Gecko/20100101 Firefox/135.0\",\n",
    "    \"Mozilla/5.0 (Windows NT 10.0; Win64; x64) AppleWebKit/537.36 (KHTML, like Gecko) Chrome/136.0.0.0 Safari/537.36 Edg/136.0.0.0\",\n",
    "    \"Mozilla/5.0 (Linux; Android 10; K) AppleWebKit/537.36 (KHTML, like Gecko) Chrome/137.0.0.0 Mobile Safari/537.36\",\n",
    "    \"Mozilla/5.0 (Windows NT 10.0; Win64; x64; rv:139.0) Gecko/20100101 Firefox/139.0\",\n",
    "    \"Mozilla/5.0 (iPhone; CPU iPhone OS 18_5 like Mac OS X) AppleWebKit/605.1.15 (KHTML, like Gecko) Version/18.5 Mobile/15E148 Safari/604.1\",\n",
    "]"
   ]
  },
  {
   "cell_type": "code",
   "execution_count": 3,
   "id": "b92da30e",
   "metadata": {},
   "outputs": [],
   "source": [
    "scraper = PantipScraper(user_agents=user_agents, log_level=logging.DEBUG)"
   ]
  },
  {
   "cell_type": "code",
   "execution_count": 4,
   "id": "5eb0d102",
   "metadata": {},
   "outputs": [
    {
     "name": "stderr",
     "output_type": "stream",
     "text": [
      "[DEBUG] 2025-06-15 13:45:28.592 - altr.scraper.pantip.scraper - Searching for 'sawano hiroyuki' in rooms all, page 1\n"
     ]
    }
   ],
   "source": [
    "result = scraper.search(keyword=\"sawano hiroyuki\")\n",
    "topics, num_topics, topic_ids = result[\"data\"], result[\"total_topics\"], result[\"topic_ids\"]"
   ]
  },
  {
   "cell_type": "code",
   "execution_count": 5,
   "id": "0a1b2c62",
   "metadata": {},
   "outputs": [
    {
     "data": {
      "text/plain": [
       "{'id': '42980847',\n",
       " 'created_time': '1727087816',\n",
       " 'rooms': ['การ์ตูน', 'กรุงโซล'],\n",
       " 'url': 'https://pantip.com/topic/42980847',\n",
       " 'title': 'สอบถามเพลงของ{{em}} {{eem}}Solo{{em}} {{eem}}leveling{{em}} {{eem}}หน่อยครับ',\n",
       " 'detail': 'พอดีผมกลับย้อนดู{{em}} {{eem}}อนิเมะ{{em}} {{eem}}Solo{{em}} {{eem}}leveling{{em}} {{eem}}จำได้ว่าตอนที่พระเอกฆ่าคนครั้งแรกตอนดูรู้สึกว่ามันมีอะไรติดทำให้รู้สึกว่ามันมีอะไรชวนกลับไปดูซ้ำ{{em}} {{eem}}พอได้ดูเลยอ่อ{{em}} {{eem}}เพราะเพลงด้วย{{em}} {{eem}}เลยอยากทราบว่าเพลงมันชื่อว่าอะไรครับ{{em}} {{eem}}เป็นตอนที่{{em}} {{eem}}6{{em}} {{eem}}นาทีที่{{em}} {{eem}}18{{em}} {{eem}}เนื้อเพลงคราวๆ{{em}} {{eem}}this{{em}} {{eem}}is{{em}} {{eem}}a{{em}} {{eem}}call{{em}} {{eem}}for{{em}} {{eem}}me{{em}} {{eem}}u{{em}} {{eem}}and{{em}} {{eem}}could{{em}} {{eem}}to{{em}} {{eem}}me{{em}} {{eem}}ถ้าผมฟังไม่ผิดนะครับ',\n",
       " 'comment': ' DARK{{em}} {{eem}}ARIA{{em}} {{eem}}ᐸLV2ᐳ{{em}} {{eem}}-{{em}} {{eem}}{{em}}Hiroyuki{{eem}}{{em}} {{eem}}{{em}}Sawano{{eem}} ค่ะ',\n",
       " 'comment_reply': 2,\n",
       " 'comment_url': 'https://pantip.com/topic/42980847/comment2',\n",
       " 'author_name': 'MyZeRo',\n",
       " 'author_url': 'https://pantip.com/profile/691671',\n",
       " 'total_comment': 2,\n",
       " 'tags': [],\n",
       " 'cover_img': None}"
      ]
     },
     "execution_count": 5,
     "metadata": {},
     "output_type": "execute_result"
    }
   ],
   "source": [
    "topics[0]"
   ]
  },
  {
   "cell_type": "code",
   "execution_count": 11,
   "id": "b46afc04",
   "metadata": {},
   "outputs": [
    {
     "data": {
      "text/plain": [
       "'สอบถามเพลงของ Solo leveling หน่อยครับ'"
      ]
     },
     "execution_count": 11,
     "metadata": {},
     "output_type": "execute_result"
    }
   ],
   "source": [
    "clean_pantip_text(topics[0][\"title\"])"
   ]
  },
  {
   "cell_type": "code",
   "execution_count": 12,
   "id": "d526251b",
   "metadata": {},
   "outputs": [
    {
     "data": {
      "text/plain": [
       "'พอดีผมกลับย้อนดู อนิเมะ Solo leveling จำได้ว่าตอนที่พระเอกฆ่าคนครั้งแรกตอนดูรู้สึกว่ามันมีอะไรติดทำให้รู้สึกว่ามันมีอะไรชวนกลับไปดูซ้ำ พอได้ดูเลยอ่อ เพราะเพลงด้วย เลยอยากทราบว่าเพลงมันชื่อว่าอะไรครับ เป็นตอนที่ 6 นาทีที่ 18 เนื้อเพลงคราวๆ this is a call for me u and could to me ถ้าผมฟังไม่ผิดนะครับ'"
      ]
     },
     "execution_count": 12,
     "metadata": {},
     "output_type": "execute_result"
    }
   ],
   "source": [
    "clean_pantip_text(topics[0][\"detail\"])"
   ]
  },
  {
   "cell_type": "code",
   "execution_count": 6,
   "id": "2227c77a",
   "metadata": {},
   "outputs": [],
   "source": [
    "topic_id = '42980847'"
   ]
  },
  {
   "cell_type": "code",
   "execution_count": 7,
   "id": "25213911",
   "metadata": {},
   "outputs": [
    {
     "name": "stderr",
     "output_type": "stream",
     "text": [
      "[DEBUG] 2025-06-15 13:45:28.728 - altr.scraper.pantip.scraper - Fetching topic 42980847\n",
      "[DEBUG] 2025-06-15 13:45:29.342 - altr.scraper.pantip.scraper - Successfully fetched topic 42980847\n"
     ]
    }
   ],
   "source": [
    "detail = scraper.get_topic_detail(topic_id=topic_id)"
   ]
  },
  {
   "cell_type": "code",
   "execution_count": 9,
   "id": "470f7fa0",
   "metadata": {},
   "outputs": [
    {
     "data": {
      "text/plain": [
       "'พอดีผมกลับย้อนดู อนิเมะ Solo leveling จำได้ว่าตอนที่พระเอกฆ่าคนครั้งแรกตอนดูรู้สึกว่ามันมีอะไรติดทำให้รู้สึกว่ามันมีอะไรชวนกลับไปดูซ้ำ พอได้ดูเลยอ่อ เพราะเพลงด้วย เลยอยากทราบว่าเพลงมันชื่อว่าอะไรครับ เป็นตอนที่ 6 นาทีที่ 18\\nเนื้อเพลงคราวๆ this is a call for me u and could to me ถ้าผมฟังไม่ผิดนะครับ'"
      ]
     },
     "execution_count": 9,
     "metadata": {},
     "output_type": "execute_result"
    }
   ],
   "source": [
    "clean_pantip_text(detail)"
   ]
  },
  {
   "cell_type": "code",
   "execution_count": 10,
   "id": "b67b10e1",
   "metadata": {},
   "outputs": [
    {
     "name": "stderr",
     "output_type": "stream",
     "text": [
      "[DEBUG] 2025-06-15 13:45:29.356 - altr.scraper.pantip.scraper - Fetching comments for topic 42980847, page 1\n",
      "[DEBUG] 2025-06-15 13:45:29.469 - altr.scraper.pantip.scraper - Successfully fetched comments for topic 42980847, page 1\n"
     ]
    }
   ],
   "source": [
    "result = scraper.get_topic_comments(topic_id=topic_id, page=1)\n",
    "comments, page_count = result[\"data\"], result[\"page_count\"]"
   ]
  },
  {
   "cell_type": "code",
   "execution_count": null,
   "id": "ae3661b5",
   "metadata": {},
   "outputs": [],
   "source": []
  },
  {
   "cell_type": "code",
   "execution_count": null,
   "id": "e28fa2a3",
   "metadata": {},
   "outputs": [],
   "source": []
  },
  {
   "cell_type": "code",
   "execution_count": null,
   "id": "f66506dc",
   "metadata": {},
   "outputs": [],
   "source": []
  }
 ],
 "metadata": {
  "kernelspec": {
   "display_name": ".venv",
   "language": "python",
   "name": "python3"
  },
  "language_info": {
   "codemirror_mode": {
    "name": "ipython",
    "version": 3
   },
   "file_extension": ".py",
   "mimetype": "text/x-python",
   "name": "python",
   "nbconvert_exporter": "python",
   "pygments_lexer": "ipython3",
   "version": "3.12.8"
  }
 },
 "nbformat": 4,
 "nbformat_minor": 5
}
